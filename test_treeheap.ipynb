{
 "cells": [
  {
   "cell_type": "code",
   "execution_count": 4,
   "metadata": {},
   "outputs": [],
   "source": [
    "from tree_heap import TreeHeap"
   ]
  },
  {
   "cell_type": "code",
   "execution_count": 5,
   "metadata": {},
   "outputs": [
    {
     "name": "stdout",
     "output_type": "stream",
     "text": [
      "        * 3  <- last\n",
      "    * 2\n",
      "        * 6\n",
      "* 1  <- root\n",
      "        * 5\n",
      "    * 4\n",
      "        * 7\n"
     ]
    }
   ],
   "source": [
    "heap = TreeHeap()\n",
    "for i in range(7):\n",
    "    heap.add(7-i)\n",
    "heap.display()"
   ]
  },
  {
   "cell_type": "code",
   "execution_count": 6,
   "metadata": {},
   "outputs": [
    {
     "name": "stdout",
     "output_type": "stream",
     "text": [
      "1\n",
      "2\n",
      "3\n",
      "    * 6\n",
      "* 4  <- root\n",
      "    * 5\n",
      "        * 7  <- last\n"
     ]
    }
   ],
   "source": [
    "print(heap.remove_min())\n",
    "print(heap.remove_min())\n",
    "print(heap.remove_min())\n",
    "\n",
    "heap.display()"
   ]
  }
 ],
 "metadata": {
  "kernelspec": {
   "display_name": "Python 3.9.5 64-bit",
   "language": "python",
   "name": "python3"
  },
  "language_info": {
   "codemirror_mode": {
    "name": "ipython",
    "version": 3
   },
   "file_extension": ".py",
   "mimetype": "text/x-python",
   "name": "python",
   "nbconvert_exporter": "python",
   "pygments_lexer": "ipython3",
   "version": "3.9.5"
  },
  "orig_nbformat": 4,
  "vscode": {
   "interpreter": {
    "hash": "c5e828394cddfe9734a8a74623d2f1dc02dc704a715c426310168382ff9c4f60"
   }
  }
 },
 "nbformat": 4,
 "nbformat_minor": 2
}
